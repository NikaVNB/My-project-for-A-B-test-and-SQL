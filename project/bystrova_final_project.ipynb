{
 "cells": [
  {
   "cell_type": "markdown",
   "metadata": {},
   "source": [
    "# Проект: вариант 2\n",
    "\n",
    "## Задание 1. A/B–тестирование\n",
    "\n",
    "**1.1 Условие**\n",
    "\n",
    "Одной из основных задач аналитика в нашей команде является корректное проведение экспериментов. Для этого мы применяем метод A/B–тестирования. В ходе тестирования одной гипотезы целевой группе была предложена новая механика оплаты услуг на сайте, у контрольной группы оставалась базовая механика. В качестве задания Вам необходимо проанализировать итоги эксперимента и сделать вывод, стоит ли запускать новую механику оплаты на всех пользователей.\n",
    "\n",
    "**1.2 Входные данные**\n",
    "\n",
    "В качестве входных данных Вы имеете 4 csv-файла:\n",
    "groups.csv - файл с информацией о принадлежности пользователя к контрольной или экспериментальной группе (А – контроль, B – целевая группа) \n",
    "groups_add.csv - дополнительный файл с пользователями, который вам прислали спустя 2 дня после передачи данных\n",
    "active_studs.csv - файл с информацией о пользователях, которые зашли на платформу в дни проведения эксперимента. \n",
    "checks.csv - файл с информацией об оплатах пользователей в дни проведения эксперимента. \n",
    "\n",
    "**1.3 Вопросы**\n",
    "**Предлагаем Вам ответить на следующие вопросы:**    \n",
    " * На какие метрики Вы смотрите в ходе анализа и почему?  \n",
    " * Имеются ли различия в показателях и с чем они могут быть связаны?  \n",
    " * Являются ли эти различия статистически значимыми?  \n",
    " * Стоит ли запускать новую механику на всех пользователей?*  \n",
    " Данный список вопросов не является обязательным, и Вы можете при своём ответе опираться на собственный план.\n",
    "\n",
    "**1.4 Требования к ответу**\n",
    "*При выполнении тестового задания необходимо использовать язык программирования Python. \n",
    "*В файле обязательно должны быть комментарии к тем действиям, которые Вы выполняете с данными. \n",
    "*Файл должен представлять собой законченный отчёт с выводами, сделанными в ходе исследования.*"
   ]
  },
  {
   "cell_type": "code",
   "execution_count": 1,
   "metadata": {},
   "outputs": [],
   "source": [
    "# Импортируем необходимые библиотеки\n",
    "import pandas as pd\n",
    "import seaborn as sns\n",
    "import matplotlib.pyplot as plt\n",
    "from datetime import timedelta\n",
    "\n",
    "import numpy as np\n",
    "import scipy.stats as ss\n",
    "from scipy import stats\n",
    "import statsmodels.api as sm\n",
    "import statsmodels.formula.api as smf\n",
    "from statsmodels.stats.api import anova_lm\n",
    "\n",
    "%matplotlib inline\n",
    "sns.set(rc={'figure.figsize':(12,6)}, style=\"whitegrid\")"
   ]
  },
  {
   "cell_type": "code",
   "execution_count": 2,
   "metadata": {},
   "outputs": [
    {
     "data": {
      "text/html": [
       "<div>\n",
       "<style scoped>\n",
       "    .dataframe tbody tr th:only-of-type {\n",
       "        vertical-align: middle;\n",
       "    }\n",
       "\n",
       "    .dataframe tbody tr th {\n",
       "        vertical-align: top;\n",
       "    }\n",
       "\n",
       "    .dataframe thead th {\n",
       "        text-align: right;\n",
       "    }\n",
       "</style>\n",
       "<table border=\"1\" class=\"dataframe\">\n",
       "  <thead>\n",
       "    <tr style=\"text-align: right;\">\n",
       "      <th></th>\n",
       "      <th>id</th>\n",
       "      <th>grp</th>\n",
       "    </tr>\n",
       "  </thead>\n",
       "  <tbody>\n",
       "    <tr>\n",
       "      <th>0</th>\n",
       "      <td>1489</td>\n",
       "      <td>B</td>\n",
       "    </tr>\n",
       "    <tr>\n",
       "      <th>1</th>\n",
       "      <td>1627</td>\n",
       "      <td>A</td>\n",
       "    </tr>\n",
       "    <tr>\n",
       "      <th>2</th>\n",
       "      <td>1768</td>\n",
       "      <td>B</td>\n",
       "    </tr>\n",
       "    <tr>\n",
       "      <th>3</th>\n",
       "      <td>1783</td>\n",
       "      <td>B</td>\n",
       "    </tr>\n",
       "    <tr>\n",
       "      <th>4</th>\n",
       "      <td>1794</td>\n",
       "      <td>A</td>\n",
       "    </tr>\n",
       "    <tr>\n",
       "      <th>...</th>\n",
       "      <td>...</td>\n",
       "      <td>...</td>\n",
       "    </tr>\n",
       "    <tr>\n",
       "      <th>74479</th>\n",
       "      <td>5692459</td>\n",
       "      <td>B</td>\n",
       "    </tr>\n",
       "    <tr>\n",
       "      <th>74480</th>\n",
       "      <td>5692572</td>\n",
       "      <td>B</td>\n",
       "    </tr>\n",
       "    <tr>\n",
       "      <th>74481</th>\n",
       "      <td>5692865</td>\n",
       "      <td>B</td>\n",
       "    </tr>\n",
       "    <tr>\n",
       "      <th>74482</th>\n",
       "      <td>5693667</td>\n",
       "      <td>B</td>\n",
       "    </tr>\n",
       "    <tr>\n",
       "      <th>74483</th>\n",
       "      <td>5694419</td>\n",
       "      <td>B</td>\n",
       "    </tr>\n",
       "  </tbody>\n",
       "</table>\n",
       "<p>74484 rows × 2 columns</p>\n",
       "</div>"
      ],
      "text/plain": [
       "            id grp\n",
       "0         1489   B\n",
       "1         1627   A\n",
       "2         1768   B\n",
       "3         1783   B\n",
       "4         1794   A\n",
       "...        ...  ..\n",
       "74479  5692459   B\n",
       "74480  5692572   B\n",
       "74481  5692865   B\n",
       "74482  5693667   B\n",
       "74483  5694419   B\n",
       "\n",
       "[74484 rows x 2 columns]"
      ]
     },
     "execution_count": 2,
     "metadata": {},
     "output_type": "execute_result"
    }
   ],
   "source": [
    "# Считываем файл с информацией о принадлежности пользователя к контрольной или экспериментальной группе\n",
    "# (А – контроль, B – целевая группа), используем разделитель \";\" \n",
    "path_to_file = '/mnt/HC_Volume_18315164/home-jupyter/jupyter-v-bystrova/Final_Project/Проект_2_groups.csv'\n",
    "users_grouped = pd.read_csv(path_to_file, encoding = 'Windows-1251', sep = ';')\n",
    "users_grouped"
   ]
  },
  {
   "cell_type": "code",
   "execution_count": 3,
   "metadata": {},
   "outputs": [
    {
     "data": {
      "text/html": [
       "<div>\n",
       "<style scoped>\n",
       "    .dataframe tbody tr th:only-of-type {\n",
       "        vertical-align: middle;\n",
       "    }\n",
       "\n",
       "    .dataframe tbody tr th {\n",
       "        vertical-align: top;\n",
       "    }\n",
       "\n",
       "    .dataframe thead th {\n",
       "        text-align: right;\n",
       "    }\n",
       "</style>\n",
       "<table border=\"1\" class=\"dataframe\">\n",
       "  <thead>\n",
       "    <tr style=\"text-align: right;\">\n",
       "      <th></th>\n",
       "      <th>id</th>\n",
       "      <th>grp</th>\n",
       "    </tr>\n",
       "  </thead>\n",
       "  <tbody>\n",
       "    <tr>\n",
       "      <th>0</th>\n",
       "      <td>5694584</td>\n",
       "      <td>B</td>\n",
       "    </tr>\n",
       "    <tr>\n",
       "      <th>1</th>\n",
       "      <td>5694830</td>\n",
       "      <td>B</td>\n",
       "    </tr>\n",
       "    <tr>\n",
       "      <th>2</th>\n",
       "      <td>5695057</td>\n",
       "      <td>B</td>\n",
       "    </tr>\n",
       "    <tr>\n",
       "      <th>3</th>\n",
       "      <td>5698872</td>\n",
       "      <td>B</td>\n",
       "    </tr>\n",
       "    <tr>\n",
       "      <th>4</th>\n",
       "      <td>5699067</td>\n",
       "      <td>B</td>\n",
       "    </tr>\n",
       "    <tr>\n",
       "      <th>...</th>\n",
       "      <td>...</td>\n",
       "      <td>...</td>\n",
       "    </tr>\n",
       "    <tr>\n",
       "      <th>87</th>\n",
       "      <td>200247820</td>\n",
       "      <td>B</td>\n",
       "    </tr>\n",
       "    <tr>\n",
       "      <th>88</th>\n",
       "      <td>201032527</td>\n",
       "      <td>B</td>\n",
       "    </tr>\n",
       "    <tr>\n",
       "      <th>89</th>\n",
       "      <td>201067612</td>\n",
       "      <td>B</td>\n",
       "    </tr>\n",
       "    <tr>\n",
       "      <th>90</th>\n",
       "      <td>201067653</td>\n",
       "      <td>B</td>\n",
       "    </tr>\n",
       "    <tr>\n",
       "      <th>91</th>\n",
       "      <td>201067659</td>\n",
       "      <td>B</td>\n",
       "    </tr>\n",
       "  </tbody>\n",
       "</table>\n",
       "<p>92 rows × 2 columns</p>\n",
       "</div>"
      ],
      "text/plain": [
       "           id grp\n",
       "0     5694584   B\n",
       "1     5694830   B\n",
       "2     5695057   B\n",
       "3     5698872   B\n",
       "4     5699067   B\n",
       "..        ...  ..\n",
       "87  200247820   B\n",
       "88  201032527   B\n",
       "89  201067612   B\n",
       "90  201067653   B\n",
       "91  201067659   B\n",
       "\n",
       "[92 rows x 2 columns]"
      ]
     },
     "execution_count": 3,
     "metadata": {},
     "output_type": "execute_result"
    }
   ],
   "source": [
    "# Считываем дополнительный файл с пользователями, который нам прислали спустя 2 дня после передачи данных\n",
    "# используем разделитель \",\"\n",
    "path_to_file_1 = '/mnt/HC_Volume_18315164/home-jupyter/jupyter-v-bystrova/Final_Project/Проект_2_group_add.csv'\n",
    "users_grouped_add = pd.read_csv(path_to_file_1, encoding = 'Windows-1251', sep = ',')\n",
    "users_grouped_add"
   ]
  },
  {
   "cell_type": "code",
   "execution_count": 4,
   "metadata": {},
   "outputs": [
    {
     "data": {
      "text/html": [
       "<div>\n",
       "<style scoped>\n",
       "    .dataframe tbody tr th:only-of-type {\n",
       "        vertical-align: middle;\n",
       "    }\n",
       "\n",
       "    .dataframe tbody tr th {\n",
       "        vertical-align: top;\n",
       "    }\n",
       "\n",
       "    .dataframe thead th {\n",
       "        text-align: right;\n",
       "    }\n",
       "</style>\n",
       "<table border=\"1\" class=\"dataframe\">\n",
       "  <thead>\n",
       "    <tr style=\"text-align: right;\">\n",
       "      <th></th>\n",
       "      <th>student_id</th>\n",
       "    </tr>\n",
       "  </thead>\n",
       "  <tbody>\n",
       "    <tr>\n",
       "      <th>0</th>\n",
       "      <td>581585</td>\n",
       "    </tr>\n",
       "    <tr>\n",
       "      <th>1</th>\n",
       "      <td>5723133</td>\n",
       "    </tr>\n",
       "    <tr>\n",
       "      <th>2</th>\n",
       "      <td>3276743</td>\n",
       "    </tr>\n",
       "    <tr>\n",
       "      <th>3</th>\n",
       "      <td>4238589</td>\n",
       "    </tr>\n",
       "    <tr>\n",
       "      <th>4</th>\n",
       "      <td>4475369</td>\n",
       "    </tr>\n",
       "    <tr>\n",
       "      <th>...</th>\n",
       "      <td>...</td>\n",
       "    </tr>\n",
       "    <tr>\n",
       "      <th>8336</th>\n",
       "      <td>1794344</td>\n",
       "    </tr>\n",
       "    <tr>\n",
       "      <th>8337</th>\n",
       "      <td>296883</td>\n",
       "    </tr>\n",
       "    <tr>\n",
       "      <th>8338</th>\n",
       "      <td>3598448</td>\n",
       "    </tr>\n",
       "    <tr>\n",
       "      <th>8339</th>\n",
       "      <td>3610547</td>\n",
       "    </tr>\n",
       "    <tr>\n",
       "      <th>8340</th>\n",
       "      <td>205705</td>\n",
       "    </tr>\n",
       "  </tbody>\n",
       "</table>\n",
       "<p>8341 rows × 1 columns</p>\n",
       "</div>"
      ],
      "text/plain": [
       "      student_id\n",
       "0         581585\n",
       "1        5723133\n",
       "2        3276743\n",
       "3        4238589\n",
       "4        4475369\n",
       "...          ...\n",
       "8336     1794344\n",
       "8337      296883\n",
       "8338     3598448\n",
       "8339     3610547\n",
       "8340      205705\n",
       "\n",
       "[8341 rows x 1 columns]"
      ]
     },
     "execution_count": 4,
     "metadata": {},
     "output_type": "execute_result"
    }
   ],
   "source": [
    "# Считываем файл с информацией о пользователях, которые зашли на платформу в дни проведения эксперимента. \n",
    "path_to_file_2 = '/mnt/HC_Volume_18315164/home-jupyter/jupyter-v-bystrova/Final_Project/Проект_2_active_studs.csv'\n",
    "users_visited = pd.read_csv(path_to_file_2)\n",
    "users_visited"
   ]
  },
  {
   "cell_type": "code",
   "execution_count": 5,
   "metadata": {},
   "outputs": [
    {
     "data": {
      "text/html": [
       "<div>\n",
       "<style scoped>\n",
       "    .dataframe tbody tr th:only-of-type {\n",
       "        vertical-align: middle;\n",
       "    }\n",
       "\n",
       "    .dataframe tbody tr th {\n",
       "        vertical-align: top;\n",
       "    }\n",
       "\n",
       "    .dataframe thead th {\n",
       "        text-align: right;\n",
       "    }\n",
       "</style>\n",
       "<table border=\"1\" class=\"dataframe\">\n",
       "  <thead>\n",
       "    <tr style=\"text-align: right;\">\n",
       "      <th></th>\n",
       "      <th>student_id</th>\n",
       "      <th>rev</th>\n",
       "    </tr>\n",
       "  </thead>\n",
       "  <tbody>\n",
       "    <tr>\n",
       "      <th>0</th>\n",
       "      <td>1627</td>\n",
       "      <td>990.0</td>\n",
       "    </tr>\n",
       "    <tr>\n",
       "      <th>1</th>\n",
       "      <td>3185</td>\n",
       "      <td>690.0</td>\n",
       "    </tr>\n",
       "    <tr>\n",
       "      <th>2</th>\n",
       "      <td>25973</td>\n",
       "      <td>690.0</td>\n",
       "    </tr>\n",
       "    <tr>\n",
       "      <th>3</th>\n",
       "      <td>26280</td>\n",
       "      <td>690.0</td>\n",
       "    </tr>\n",
       "    <tr>\n",
       "      <th>4</th>\n",
       "      <td>100300</td>\n",
       "      <td>990.0</td>\n",
       "    </tr>\n",
       "    <tr>\n",
       "      <th>...</th>\n",
       "      <td>...</td>\n",
       "      <td>...</td>\n",
       "    </tr>\n",
       "    <tr>\n",
       "      <th>536</th>\n",
       "      <td>5645737</td>\n",
       "      <td>1900.0</td>\n",
       "    </tr>\n",
       "    <tr>\n",
       "      <th>537</th>\n",
       "      <td>5651566</td>\n",
       "      <td>1900.0</td>\n",
       "    </tr>\n",
       "    <tr>\n",
       "      <th>538</th>\n",
       "      <td>5662322</td>\n",
       "      <td>1900.0</td>\n",
       "    </tr>\n",
       "    <tr>\n",
       "      <th>539</th>\n",
       "      <td>5681918</td>\n",
       "      <td>1900.0</td>\n",
       "    </tr>\n",
       "    <tr>\n",
       "      <th>540</th>\n",
       "      <td>5740903</td>\n",
       "      <td>1900.0</td>\n",
       "    </tr>\n",
       "  </tbody>\n",
       "</table>\n",
       "<p>541 rows × 2 columns</p>\n",
       "</div>"
      ],
      "text/plain": [
       "     student_id     rev\n",
       "0          1627   990.0\n",
       "1          3185   690.0\n",
       "2         25973   690.0\n",
       "3         26280   690.0\n",
       "4        100300   990.0\n",
       "..          ...     ...\n",
       "536     5645737  1900.0\n",
       "537     5651566  1900.0\n",
       "538     5662322  1900.0\n",
       "539     5681918  1900.0\n",
       "540     5740903  1900.0\n",
       "\n",
       "[541 rows x 2 columns]"
      ]
     },
     "execution_count": 5,
     "metadata": {},
     "output_type": "execute_result"
    }
   ],
   "source": [
    "# Считываем файл с информацией об оплатах пользователей в дни проведения эксперимента, используем разделитель \";\"\n",
    "path_to_file_3 = '/mnt/HC_Volume_18315164/home-jupyter/jupyter-v-bystrova/Final_Project/Проект_2_checks.csv'\n",
    "users_payed = pd.read_csv(path_to_file_3, encoding = 'Windows-1251', sep = ';')\n",
    "users_payed"
   ]
  },
  {
   "cell_type": "markdown",
   "metadata": {},
   "source": [
    "***Предполагаю, что нам необходимо объединить наши базы о принадлежности пользователя к контрольной или экспериментальной \n",
    "группе, т.е. объединить основной и дополнительный файлы. Но сначала необходимо убедиться, что в этих базах только уникальные id, и аналогичный тип данных.***"
   ]
  },
  {
   "cell_type": "code",
   "execution_count": 6,
   "metadata": {},
   "outputs": [],
   "source": [
    "# Проверяем типы данных наших баз"
   ]
  },
  {
   "cell_type": "code",
   "execution_count": 7,
   "metadata": {},
   "outputs": [
    {
     "data": {
      "text/plain": [
       "id      int64\n",
       "grp    object\n",
       "dtype: object"
      ]
     },
     "execution_count": 7,
     "metadata": {},
     "output_type": "execute_result"
    }
   ],
   "source": [
    "users_grouped.dtypes"
   ]
  },
  {
   "cell_type": "code",
   "execution_count": 8,
   "metadata": {},
   "outputs": [
    {
     "data": {
      "text/plain": [
       "id      int64\n",
       "grp    object\n",
       "dtype: object"
      ]
     },
     "execution_count": 8,
     "metadata": {},
     "output_type": "execute_result"
    }
   ],
   "source": [
    "users_grouped_add.dtypes"
   ]
  },
  {
   "cell_type": "code",
   "execution_count": 9,
   "metadata": {},
   "outputs": [],
   "source": [
    "# Функция по поиску дубликатов:\n",
    "def isHasDublicates(table, colName = 'id'):\n",
    "    return table.duplicated([colName]).sum() > 0"
   ]
  },
  {
   "cell_type": "code",
   "execution_count": 10,
   "metadata": {},
   "outputs": [
    {
     "data": {
      "text/plain": [
       "False"
      ]
     },
     "execution_count": 10,
     "metadata": {},
     "output_type": "execute_result"
    }
   ],
   "source": [
    "isHasDublicates(users_grouped)"
   ]
  },
  {
   "cell_type": "code",
   "execution_count": 11,
   "metadata": {},
   "outputs": [
    {
     "data": {
      "text/plain": [
       "False"
      ]
     },
     "execution_count": 11,
     "metadata": {},
     "output_type": "execute_result"
    }
   ],
   "source": [
    "isHasDublicates(users_grouped_add)"
   ]
  },
  {
   "cell_type": "code",
   "execution_count": 12,
   "metadata": {},
   "outputs": [],
   "source": [
    "# Функция, комбинирующая таблицы \n",
    "def concat_tables(t1, t2):\n",
    "    if (isHasDublicates(t1)):\n",
    "        # Удалить дубликаты по колонке 'id'\n",
    "        combined_df = t1.drop_duplicates(subset='id')\n",
    "    \n",
    "    if (isHasDublicates(t2)):\n",
    "        # Удалить дубликаты по колонке 'id'\n",
    "        combined_df = t2.drop_duplicates(subset='id')\n",
    "\n",
    "    combined_df = pd.concat([t1, t2], ignore_index=True)\n",
    "    \n",
    "    if (isHasDublicates(combined_df)):\n",
    "        # Удалить дубликаты по колонке 'id'\n",
    "        combined_df = combined_df.drop_duplicates(subset='id')\n",
    "    \n",
    "    return combined_df"
   ]
  },
  {
   "cell_type": "markdown",
   "metadata": {},
   "source": [
    "**Исходя из предложенных исходных файлов, я буду исследовать следующие метрики:**    \n",
    "- ***Выручка*** \n",
    "- ***Средний чек***   \n",
    "- ***Конверсия***"
   ]
  },
  {
   "cell_type": "markdown",
   "metadata": {},
   "source": [
    "***Предположим, что id в нашей общей базе эксперемента равняется значениям student_id в базах пользователей,\n",
    "которые зашли на платформу в дни проведения эксперимента и произвели оплаты. \n",
    "Чтобы в дальнейшем проверить метрики конверсии, среднего чека и выручки нам необходимо будет объеденить наши базы,\n",
    "а для этого, чтобы информация соотнеслась верно, нам нужно чтобы в базах была колонка с общим именем и нужными нам данными.***"
   ]
  },
  {
   "cell_type": "code",
   "execution_count": 13,
   "metadata": {},
   "outputs": [
    {
     "name": "stdout",
     "output_type": "stream",
     "text": [
      "all_users_count 8490\n",
      "only_payed_users_count 541\n",
      "Revenue is 573326.0\n",
      "CR is 6.37\n",
      "Average check is 1059.7523105360444\n"
     ]
    },
    {
     "data": {
      "text/plain": [
       "{'revenue': 573326.0, 'cr': 6.37, 'avr_check': 1059.7523105360444}"
      ]
     },
     "execution_count": 13,
     "metadata": {},
     "output_type": "execute_result"
    }
   ],
   "source": [
    "#Создадим функцию, которая мержит все датафреймы и возвращает датафрейм, в котором есть только зашедшие во время эксперимента,\n",
    "#а также добавляются колонки с группой и информацией об оплате\n",
    "def merge_dfs(users_grouped, users_visited, users_payed): \n",
    "    #Объединим базу посетивших эксперимент с базой оплаты, чтобы добавить колонку rev с данными об оплате\n",
    "    #(либо Null, если отсутствует оплата)\n",
    "    #Так как в users_payed есть еще какие-то посетители сайта совершившие оплаты во время проведения эксперимента,\n",
    "    # но не попавшие в таблицу users_visited, будем использовать флаг how='outer'\n",
    "    users_all_visited = pd.merge(users_visited, users_payed, on='student_id', how='outer')\n",
    "    \n",
    "    #Переименуем id в student_id, чтобы базу с разделением по группам можно было сливать с остальными данными\n",
    "    users_grouped_renamed = users_grouped.rename(columns={'id': 'student_id'})\n",
    "\n",
    "    #Объединим базы, чтобы получить только тех, которые зашли во время эксперимента и с указанием группы\n",
    "    users_all_visited_with_groups = pd.merge(users_grouped_renamed, users_all_visited)\n",
    "\n",
    "    # Проверяем смерженную таблицу на дубликаты\n",
    "    if (isHasDublicates(users_all_visited_with_groups, 'student_id')):\n",
    "        print(f'There are dublicates in result_df table')\n",
    "        users_all_visited_with_groups = users_all_visited_with_groups.drop_duplicates(subset='student_id')\n",
    "    \n",
    "    return users_all_visited_with_groups\n",
    "    \n",
    "\n",
    "#Напишим функцию для расчета и вывода на печать всех наших метрик (выручки, конверсии и среднего чека):\n",
    "def get_metrics(df):\n",
    "    # Находим общее количество студентов, участвовавших в эксперименте\n",
    "    all_users_count = df.count()[0]\n",
    "    print(f'all_users_count', all_users_count )\n",
    "        \n",
    "    # В нашем объединенном датафрэйме в  столбце rev обнаружено значение NaN, поэтому мы для удобства, отфильтруем данные,\n",
    "    # и оставим только тех, кто оплатил в течении нашего эксперимента:\n",
    "    # Находим количество студентов, которые оплатили\n",
    "    only_payed_users_count = df.dropna().count()[0]\n",
    "    print(f'only_payed_users_count', only_payed_users_count )\n",
    "\n",
    "    # Считаем общую выручку    \n",
    "    revenue = df.rev.sum().round(2)\n",
    "    print(f'Revenue is', revenue)\n",
    "    \n",
    "    # Считаем конверсию:\n",
    "    cr = round((only_payed_users_count / all_users_count * 100), 2)\n",
    "    print(f'CR is', cr)\n",
    "    \n",
    "    # Для расчёта среднего чека по данным о выручке и конверсии сайта можно использовать следующую формулу:\n",
    "    # Средний чек = Выручка / Количество покупок/покупателей\n",
    "    # Эта метрика помогает понять, сколько в среднем денег тратит каждый клиент при совершении покупки.\n",
    "\n",
    "    # Считаем средний чек:\n",
    "    avr_check = revenue / only_payed_users_count\n",
    "    print(f'Average check is', avr_check)\n",
    "    \n",
    "    return {\n",
    "        'revenue': revenue,\n",
    "        'cr': cr,\n",
    "        'avr_check': avr_check\n",
    "    }\n",
    "    \n",
    "\n",
    "#Создадим переменную, в которой будем хранить актуальную таблицу с разбивкой по группой (потом мы собираемся ее обновлять в 3 задании)\n",
    "users_grouped_actual = concat_tables(users_grouped, users_grouped_add)\n",
    "merged_df = merge_dfs(users_grouped_actual, users_visited, users_payed)\n",
    "\n",
    "metrics = get_metrics(merged_df)\n",
    "metrics"
   ]
  },
  {
   "cell_type": "markdown",
   "metadata": {},
   "source": [
    "**На данном этапе анализа у нас есть данные, в том числе о посетителях совершивших оплаты в день посещения эксперимента, но не попавшие в активную группу, т.е. контрольную, либо тестовую, это может свидетельствовать о том, что возможно у нас присутствует:**  \n",
    "***- автоматическое списание подписки на нашем сайте, и есть клиенты, которые ее подключили, но не заходили на наш сайт в дни эксперимента,***     \n",
    "***- либо у нас не совсем корректно разнесли посетителей по группам в дни проведения эксперимента.***"
   ]
  },
  {
   "cell_type": "markdown",
   "metadata": {},
   "source": [
    "**Увидеть количество неучтенных оплативших посетителей, можно объединив два датафрэйма: users_visited, users_payed  в датафрэйм users_not_all_visited и сравнить с общим получившимся датафрэймом users_all_visited**"
   ]
  },
  {
   "cell_type": "code",
   "execution_count": 14,
   "metadata": {},
   "outputs": [
    {
     "data": {
      "text/html": [
       "<div>\n",
       "<style scoped>\n",
       "    .dataframe tbody tr th:only-of-type {\n",
       "        vertical-align: middle;\n",
       "    }\n",
       "\n",
       "    .dataframe tbody tr th {\n",
       "        vertical-align: top;\n",
       "    }\n",
       "\n",
       "    .dataframe thead th {\n",
       "        text-align: right;\n",
       "    }\n",
       "</style>\n",
       "<table border=\"1\" class=\"dataframe\">\n",
       "  <thead>\n",
       "    <tr style=\"text-align: right;\">\n",
       "      <th></th>\n",
       "      <th>student_id</th>\n",
       "      <th>rev</th>\n",
       "    </tr>\n",
       "  </thead>\n",
       "  <tbody>\n",
       "    <tr>\n",
       "      <th>0</th>\n",
       "      <td>1184303</td>\n",
       "      <td>1530.0000</td>\n",
       "    </tr>\n",
       "    <tr>\n",
       "      <th>1</th>\n",
       "      <td>3354191</td>\n",
       "      <td>1900.0001</td>\n",
       "    </tr>\n",
       "    <tr>\n",
       "      <th>2</th>\n",
       "      <td>3278734</td>\n",
       "      <td>1900.0000</td>\n",
       "    </tr>\n",
       "    <tr>\n",
       "      <th>3</th>\n",
       "      <td>720651</td>\n",
       "      <td>1980.0000</td>\n",
       "    </tr>\n",
       "    <tr>\n",
       "      <th>4</th>\n",
       "      <td>1232221</td>\n",
       "      <td>1900.0000</td>\n",
       "    </tr>\n",
       "    <tr>\n",
       "      <th>...</th>\n",
       "      <td>...</td>\n",
       "      <td>...</td>\n",
       "    </tr>\n",
       "    <tr>\n",
       "      <th>387</th>\n",
       "      <td>3890326</td>\n",
       "      <td>199.0000</td>\n",
       "    </tr>\n",
       "    <tr>\n",
       "      <th>388</th>\n",
       "      <td>1390994</td>\n",
       "      <td>398.0000</td>\n",
       "    </tr>\n",
       "    <tr>\n",
       "      <th>389</th>\n",
       "      <td>1516339</td>\n",
       "      <td>290.0000</td>\n",
       "    </tr>\n",
       "    <tr>\n",
       "      <th>390</th>\n",
       "      <td>3910596</td>\n",
       "      <td>597.0000</td>\n",
       "    </tr>\n",
       "    <tr>\n",
       "      <th>391</th>\n",
       "      <td>3610547</td>\n",
       "      <td>290.0000</td>\n",
       "    </tr>\n",
       "  </tbody>\n",
       "</table>\n",
       "<p>392 rows × 2 columns</p>\n",
       "</div>"
      ],
      "text/plain": [
       "     student_id        rev\n",
       "0       1184303  1530.0000\n",
       "1       3354191  1900.0001\n",
       "2       3278734  1900.0000\n",
       "3        720651  1980.0000\n",
       "4       1232221  1900.0000\n",
       "..          ...        ...\n",
       "387     3890326   199.0000\n",
       "388     1390994   398.0000\n",
       "389     1516339   290.0000\n",
       "390     3910596   597.0000\n",
       "391     3610547   290.0000\n",
       "\n",
       "[392 rows x 2 columns]"
      ]
     },
     "execution_count": 14,
     "metadata": {},
     "output_type": "execute_result"
    }
   ],
   "source": [
    "users_not_all_visited = pd.merge(users_visited, users_payed, on='student_id')\n",
    "users_not_all_visited"
   ]
  },
  {
   "cell_type": "code",
   "execution_count": 15,
   "metadata": {},
   "outputs": [
    {
     "data": {
      "text/plain": [
       "541"
      ]
     },
     "execution_count": 15,
     "metadata": {},
     "output_type": "execute_result"
    }
   ],
   "source": [
    "# Находим общее количество оплативших пользователей в дни эксперимента:\n",
    "users_all_visited = pd.merge(users_visited, users_payed, on='student_id', how='outer')\n",
    "users_all_visited\n",
    "only_payed_users_count_all = users_all_visited.dropna().count()[0]\n",
    "only_payed_users_count_all"
   ]
  },
  {
   "cell_type": "code",
   "execution_count": 16,
   "metadata": {},
   "outputs": [
    {
     "data": {
      "text/plain": [
       "149"
      ]
     },
     "execution_count": 16,
     "metadata": {},
     "output_type": "execute_result"
    }
   ],
   "source": [
    "# Находим количество оплативших посетителей, которые не включены в наш эксперимент\n",
    "541-392"
   ]
  },
  {
   "cell_type": "code",
   "execution_count": 17,
   "metadata": {},
   "outputs": [
    {
     "name": "stdout",
     "output_type": "stream",
     "text": [
      "Revenue of all paid users 573326.0\n",
      "Revenue of users participating in the experiment 467794.0\n",
      "The difference in income between all users and participants in the experiment 105532.0\n"
     ]
    }
   ],
   "source": [
    " # Считаем общую выручку, чтобы понять о какой неучтенной сумме может идти речь:\n",
    "revenue_users_all_visited = users_all_visited.rev.sum().round(2)\n",
    "revenue_users_not_all_visited = users_not_all_visited.rev.sum().round(2)\n",
    "income_difference = revenue_users_all_visited - revenue_users_not_all_visited\n",
    "print(f'Revenue of all paid users', revenue_users_all_visited)\n",
    "print(f'Revenue of users participating in the experiment', revenue_users_not_all_visited)\n",
    "print(f'The difference in income between all users and participants in the experiment', income_difference)"
   ]
  },
  {
   "cell_type": "code",
   "execution_count": 18,
   "metadata": {},
   "outputs": [
    {
     "data": {
      "text/plain": [
       "(8490, 2)"
      ]
     },
     "execution_count": 18,
     "metadata": {},
     "output_type": "execute_result"
    }
   ],
   "source": [
    "# Проверим общее количество активных пользователей разнесенных по группам:\n",
    "users_all_visited.shape"
   ]
  },
  {
   "cell_type": "markdown",
   "metadata": {},
   "source": [
    "### Чтобы прийти к какому-либо выводу, по поводу успешности, либо неуспешности нашего эксперимента, нам  необходимо рассчитать и  сравнить результат наших метрик за время эксперимента  в тестовой и контрольной группах"
   ]
  },
  {
   "cell_type": "markdown",
   "metadata": {},
   "source": [
    "### Разделим наши данных на две выборки: A и B, где значия в группе \"group_a\" соответствует данным контрольной группы,     \n",
    "### а значия в группе \"group_b\" соответствует данным тестовой группы в нашем эксперименте,    \n",
    "### - а заодно проверим по количеству пользователей которые отнесутся к той или иной группе нашу теорию о том, что при проведении эксперимента и выгрузке данных в таблицах с активными участниками и активными плательщиками не совсем корректно разнесли посетителей по группам в дни проведения эксперимента,   \n",
    "### - либо же у нас все-таки включена функция автоплатежа без активности со стороны пользователя"
   ]
  },
  {
   "cell_type": "code",
   "execution_count": 19,
   "metadata": {},
   "outputs": [
    {
     "name": "stdout",
     "output_type": "stream",
     "text": [
      "all_users_count 1567\n",
      "only_payed_users_count 107\n",
      "Revenue is 92096.0\n",
      "CR is 6.83\n",
      "Average check is 860.7102803738318\n"
     ]
    },
    {
     "data": {
      "text/plain": [
       "{'revenue': 92096.0, 'cr': 6.83, 'avr_check': 860.7102803738318}"
      ]
     },
     "execution_count": 19,
     "metadata": {},
     "output_type": "execute_result"
    }
   ],
   "source": [
    "# Разделение данных на две выборки: A и B\n",
    "group_a = merged_df[merged_df['grp'] == 'A']\n",
    "metrics_a = get_metrics(group_a)\n",
    "metrics_a"
   ]
  },
  {
   "cell_type": "code",
   "execution_count": 20,
   "metadata": {},
   "outputs": [
    {
     "name": "stdout",
     "output_type": "stream",
     "text": [
      "all_users_count 6923\n",
      "only_payed_users_count 434\n",
      "Revenue is 481230.0\n",
      "CR is 6.27\n",
      "Average check is 1108.8248847926268\n"
     ]
    },
    {
     "data": {
      "text/plain": [
       "{'revenue': 481230.0, 'cr': 6.27, 'avr_check': 1108.8248847926268}"
      ]
     },
     "execution_count": 20,
     "metadata": {},
     "output_type": "execute_result"
    }
   ],
   "source": [
    "group_b = merged_df[merged_df['grp'] == 'B']\n",
    "metrics_b = get_metrics(group_b)\n",
    "metrics_b"
   ]
  },
  {
   "cell_type": "markdown",
   "metadata": {},
   "source": [
    "***Мы видим следующее, если сложить данные о пользователях групп A и B, то их общее количество будет соответсвовать цифре 8490, т.е. количеству активных участников эксперимента, и количество оплативших пользователей будет равно 541, что соответствует количеству пользователей в таблице с оплатами, а значит подтвердилась теория о том, что не совсем корректно разнесли посетителей по группам в дни проведения эксперимента, но объединение таблиц это исправило, а значит мы можем считать наши метрики по общему объединенному датафрэйму \"users_all_visited\".***"
   ]
  },
  {
   "cell_type": "markdown",
   "metadata": {},
   "source": [
    "**Для более легкого принятия решения, визуализируем наши метрики**"
   ]
  },
  {
   "cell_type": "code",
   "execution_count": 21,
   "metadata": {},
   "outputs": [
    {
     "data": {
      "image/png": "[encoded data removed]",
      "text/plain": [
       "<Figure size 864x432 with 1 Axes>"
      ]
     },
     "metadata": {},
     "output_type": "display_data"
    },
    {
     "data": {
      "image/png": "[encoded data removed]",
      "text/plain": [
       "<Figure size 576x432 with 1 Axes>"
      ]
     },
     "metadata": {},
     "output_type": "display_data"
    },
    {
     "data": {
      "image/png": "[encoded data removed]",
      "text/plain": [
       "<Figure size 576x432 with 1 Axes>"
      ]
     },
     "metadata": {},
     "output_type": "display_data"
    }
   ],
   "source": [
    "#Напишем функцию для построения графиков\n",
    "def build_graphics(df, avr_group_a, avr_group_b, cr_a, cr_b):\n",
    "    # Визуализируем выручку по нашим группам:\n",
    "    sns.countplot(x = 'rev', data = df, hue=\"grp\")\n",
    "    sns.set(rc={'figure.figsize':(12,6)}, style=\"whitegrid\")\n",
    "    \n",
    "    \n",
    "    # Создание DataFrame с данными по среднему чеку\n",
    "    data = {\n",
    "        'Группа': ['Контрольная', 'Тестовая'],\n",
    "        'Средний чек': [avr_group_a, avr_group_b]\n",
    "    }\n",
    "\n",
    "    df_avr_check = pd.DataFrame(data)\n",
    "\n",
    "    # Создание графика\n",
    "    plt.figure(figsize=(8, 6))\n",
    "\n",
    "    # Список цветов для столбцов\n",
    "    colors = ['blue', 'green']\n",
    "\n",
    "    plt.bar(df_avr_check['Группа'], df_avr_check['Средний чек'], color=colors)\n",
    "    # Добавление заголовка и меток осей\n",
    "    plt.title('Средний чек: Контрольная vs Тестовая группа')\n",
    "    plt.xlabel('Группа')\n",
    "    plt.ylabel('Средний чек')\n",
    "\n",
    "    # Отображение графика\n",
    "    plt.show()\n",
    "    \n",
    "    \n",
    "    \n",
    "    # Создание DataFrame с данными по конверсии\n",
    "    data_cr = {\n",
    "        'Группа': ['Контрольная', 'Тестовая'],\n",
    "        'Конверсия': [cr_a, cr_b]\n",
    "    }\n",
    "\n",
    "    df_cr = pd.DataFrame(data_cr)\n",
    "\n",
    "    # Создание графика\n",
    "    plt.figure(figsize=(8, 6))\n",
    "\n",
    "    # Список цветов для столбцов\n",
    "    colors = ['red', 'green']\n",
    "\n",
    "    plt.bar(df_cr['Группа'], df_cr['Конверсия'], color=colors)\n",
    "    # Добавление заголовка и меток осей\n",
    "    plt.title('Конверсия: Контрольная vs Тестовая группа')\n",
    "    plt.xlabel('Группа')\n",
    "    plt.ylabel('Конверсия')\n",
    "\n",
    "    # Отображение графика\n",
    "    plt.show()\n",
    "    \n",
    "    \n",
    "build_graphics(merged_df, metrics_a['avr_check'], metrics_b['avr_check'], metrics_a['cr'], metrics_b['cr'])"
   ]
  },
  {
   "cell_type": "markdown",
   "metadata": {},
   "source": [
    "**Чтобы дополнительно проверить свои выводы посмотрим на статистику в наших группах, методом describe(), чтобы убедиться в правильности наших расчетов**"
   ]
  },
  {
   "cell_type": "code",
   "execution_count": 22,
   "metadata": {},
   "outputs": [
    {
     "data": {
      "text/plain": [
       "count     107.000000\n",
       "mean      860.710280\n",
       "std       815.893445\n",
       "min       199.000000\n",
       "25%       290.000000\n",
       "50%       690.000000\n",
       "75%       990.000000\n",
       "max      3660.000000\n",
       "Name: rev, dtype: float64"
      ]
     },
     "execution_count": 22,
     "metadata": {},
     "output_type": "execute_result"
    }
   ],
   "source": [
    "# Статистика контрольной группы\n",
    "group_a.rev.describe()"
   ]
  },
  {
   "cell_type": "code",
   "execution_count": 23,
   "metadata": {},
   "outputs": [
    {
     "data": {
      "text/plain": [
       "count     434.000000\n",
       "mean     1108.824893\n",
       "std       741.834304\n",
       "min       199.000000\n",
       "25%       420.750000\n",
       "50%       935.000000\n",
       "75%      1900.000000\n",
       "max      4650.000000\n",
       "Name: rev, dtype: float64"
      ]
     },
     "execution_count": 23,
     "metadata": {},
     "output_type": "execute_result"
    }
   ],
   "source": [
    "# Статистика тестовой группы\n",
    "group_b.rev.describe()"
   ]
  },
  {
   "cell_type": "markdown",
   "metadata": {},
   "source": [
    "## Однако, прежде чем делать вывод на основе полученных статистических данных об успешности нашего эксперимента, и предлагать принять новую форму оплаты на нашем сайте, необходимо проверить являются ли эти различия статистически значимыми ##"
   ]
  },
  {
   "cell_type": "code",
   "execution_count": 24,
   "metadata": {},
   "outputs": [
    {
     "data": {
      "text/plain": [
       "(ShapiroResult(statistic=0.7196124196052551, pvalue=5.321687643507211e-13),\n",
       " ShapiroResult(statistic=0.8672363758087158, pvalue=8.947892893418603e-19))"
      ]
     },
     "execution_count": 24,
     "metadata": {},
     "output_type": "execute_result"
    }
   ],
   "source": [
    "# Сначала проведем тест на нормальность распределения Шапиро-Уилка, чтобы понять, как в дальнейшем проверить значимость наших\n",
    "# метрик:\n",
    "# Если p-value меньше 0,05, то подтвердится ненормальность распределений, если p-value больше 0,05, то распределение нормальное.\n",
    "# Делаем преподготовку файлов:\n",
    "group_a_dropped = group_a['rev'].dropna()\n",
    "group_b_dropped = group_b['rev'].dropna()\n",
    "    \n",
    "# Проверяем:\n",
    "stats.shapiro(group_a_dropped), stats.shapiro(group_b_dropped)"
   ]
  },
  {
   "cell_type": "markdown",
   "metadata": {},
   "source": [
    "**Мы увидели, что распределение в нашем случае ненормальное, т.к. pvalue значительно меньше 0,05, а значит, мы должны использовать непараметрический тест, например критерий Мана-Уитни для среднего чека, чтобы убедиться в статистической значимости полученных нами метрик.** "
   ]
  },
  {
   "cell_type": "code",
   "execution_count": 25,
   "metadata": {},
   "outputs": [
    {
     "name": "stdout",
     "output_type": "stream",
     "text": [
      "Статистика теста: 17862.0\n",
      "p-значение: 0.00019316054996380152\n",
      "Существуют статистически значимые различия между группами.\n"
     ]
    }
   ],
   "source": [
    "# Напишем функцию для автоматичеcкого тестирования наших данных на статзначимость(используем критерий Мана-Уитни,\n",
    "# Нулевая гипотеза будет заключаться в том, что средние значения среднего чека в обеих группах равны.)\n",
    "# Если pvalue меньше 0,05, значит наши метрики статистически различаются между собой и мы можем сравнить наши группы A и B\n",
    "# и прийти к определенным выводам.\n",
    "\n",
    "def test_statistical_data(group_a, group_b):\n",
    "\n",
    "    # Делаем преподготовку файлов:\n",
    "    group_a_dropped = group_a['rev'].dropna()\n",
    "    group_b_dropped = group_b['rev'].dropna()\n",
    "\n",
    "    # Выполняем U-тест Манна-Уитни:\n",
    "    from scipy.stats import mannwhitneyu\n",
    "    statistic, p_value = mannwhitneyu(group_a_dropped, group_b_dropped)\n",
    "\n",
    "    # Выводим результаты\n",
    "    print(\"Статистика теста:\", statistic)\n",
    "    print(\"p-значение:\", p_value)\n",
    "\n",
    "    # Интерпретация результатов\n",
    "    alpha = 0.05\n",
    "\n",
    "    if p_value < alpha:\n",
    "        print(\"Существуют статистически значимые различия между группами.\")\n",
    "    else:\n",
    "        print(\"Нет статистически значимых различий между группами.\")\n",
    "        \n",
    "test_statistical_data(group_a, group_b)"
   ]
  },
  {
   "cell_type": "markdown",
   "metadata": {},
   "source": [
    "## Проведя тестирование на значимость различий результатов между нашей контрольной и тестовой группой, мы получили вывод: \"Различия между выборками являются статистически значимыми\", и это означает, что мы можем сравнивать наши результаты метрик между контрольной и тестовой группами и прийти к определенным выводам##\n",
    "### Также мы можем убедиться в статзначимости наших результаттов анализа при помощи методов визуализации ###"
   ]
  },
  {
   "cell_type": "code",
   "execution_count": 26,
   "metadata": {},
   "outputs": [
    {
     "data": {
      "text/plain": [
       "<matplotlib.axes._subplots.AxesSubplot at 0x7f7936845550>"
      ]
     },
     "execution_count": 26,
     "metadata": {},
     "output_type": "execute_result"
    },
    {
     "data": {
      "image/png": "[encoded data removed]",
      "text/plain": [
       "<Figure size 864x432 with 1 Axes>"
      ]
     },
     "metadata": {},
     "output_type": "display_data"
    }
   ],
   "source": [
    " sns.boxplot(data=merged_df, x=\"grp\", y=\"rev\")\n"
   ]
  },
  {
   "cell_type": "markdown",
   "metadata": {},
   "source": [
    "### Судя по нашему боксплоту,  между нашими группами присутствуют значимые различия ###"
   ]
  },
  {
   "cell_type": "markdown",
   "metadata": {},
   "source": [
    "## На основе предоставленных мне для анализа данных я пришла к следующим выводам:  \n",
    "* Значимые различия между нашими контрольной и тестовой группами во время проведения эксперимента присутствуют, а значит,  можно признать данные для анализа объективными;\n",
    "* Во время проведения эксперимента средний чек в тестовой группе был на **247 условных рублей** больше, чем в контрольной, и с этой точки зрения наш эксперимент можно считать удачным.\n",
    "* Однако конверсия в тестовой группе на **0,56 пп.** ниже чем в контрольной, и поэтому сказать, что эксперимент можно признать однозначно удачным - нельзя.\n",
    "* \n",
    "**Т.к. результаты наших метрик носят разнонаправленный характер, мои рекомендации будут следующими:**  \n",
    "* а.) Если при тестировании новой механики оплат для нашей компании важна **конверсия в покупку,**  т.е. как можно большее количество пользователей должно оплачивать наши услуги, то **я не рекомендую раскатывать нашу новую механику оплат,** т.к. ее конверсия ниже, по сравнению с конверсией предыдущей версии оплат на **0,56 пп.**,  \n",
    "* б.) Если при тестировании новой механики оплат для нашей компании важно увеличение **среднего чека**, то **я могу рекомендовать раскатить нашу новую механику оплат,** т.к. средний чек вырос на 247 рублей,  \n",
    "* в.) Если же при тестировании новой механики оплат для нашей компании **важны оба этих показателя - и средний чек и конверсия**, то **я могу рекомендовать продолжить эксперимент до получения более однозначных выводов.**\n",
    " "
   ]
  },
  {
   "cell_type": "markdown",
   "metadata": {},
   "source": [
    "# Задание 2. SQL\n",
    "## 2.1 Очень усердные ученики.\n",
    "\n",
    "### 2.1.1 Условие\n",
    "\n",
    "Образовательные курсы состоят из различных уроков, каждый из которых состоит из нескольких маленьких заданий. Каждое такое маленькое задание называется \"горошиной\".\n",
    "\n",
    "Назовём очень усердным учеником того пользователя, который хотя бы раз за текущий месяц правильно решил 20 горошин.\n",
    "\n",
    "### 2.1.2 Задача\n",
    "\n",
    "Дана таблица default.peas \n",
    "\n",
    "## ! Все данные находятся в табличном виде в ClickHouse \n",
    "\n",
    "### Необходимо написать оптимальный запрос, который даст информацию о количестве очень усердных студентов.NB! Под усердным студентом мы понимаем студента, который правильно решил 20 задач за текущий месяц."
   ]
  },
  {
   "cell_type": "markdown",
   "metadata": {},
   "source": [
    "### Решение (можно проверить в QlickHouse): ###\n",
    "    \n",
    "   ```SELECT COUNT(*) AS student_count  \n",
    "FROM (  \n",
    "    SELECT st_id, COUNT(*) AS task_count  \n",
    "    FROM default.peas  \n",
    "    WHERE toDate(timest) >= toStartOfMonth(now()) AND toDate(timest) < toStartOfMonth(now()) + INTERVAL 1 MONTH  \n",
    "    AND correct = 1  \n",
    "    GROUP BY st_id  \n",
    "    HAVING COUNT(*) >= 20  \n",
    ") AS subquery```\n",
    "\n",
    "\n",
    "***Проверочный код для даты указанной в таблице default.peas:***  \n",
    "```SELECT COUNT(*) AS student_count\n",
    "FROM (\n",
    "    SELECT st_id, COUNT(*) AS task_count\n",
    "    FROM default.peas\n",
    "    WHERE toDate(timest) >= toStartOfMonth(toDate('2021-10-30')) AND toDate(timest) < toStartOfMonth(toDate('2021-10-30')) + INTERVAL 1 MONTH\n",
    "    AND correct = 1\n",
    "    GROUP BY st_id\n",
    "    HAVING COUNT(*) >= 20\n",
    ") AS subquery```\n",
    "\n"
   ]
  },
  {
   "cell_type": "markdown",
   "metadata": {},
   "source": [
    "## 2.2 Оптимизация воронки\n",
    "\n",
    "### 2.2.1 Условие\n",
    "\n",
    "Образовательная платформа предлагает пройти студентам курсы по модели trial: студент может решить бесплатно лишь 30 горошин в день. Для неограниченного количества заданий в определенной дисциплине студенту необходимо приобрести полный доступ. Команда провела эксперимент, где был протестирован новый экран оплаты.\n",
    "\n",
    "### 2.2.2 Задача\n",
    "\n",
    "Даны таблицы: default.peas, default.studs и default.final_project_check:\n",
    "\n",
    "## ! Все данные находятся в табличном виде в ClickHouse \n",
    "\n",
    "\n",
    "### Необходимо в одном запросе выгрузить следующую информацию о группах пользователей:\n",
    "\n",
    "### ARPU \n",
    "### ARPAU\n",
    "### CR в покупку \n",
    "### СR активного пользователя в покупку \n",
    "### CR пользователя из активности по математике (subject = ’math’) в покупку курса по математике (***не совсем верное название предмета, корректное примение согласно базы : subject = ’Math’***)\n",
    "\n",
    "### ARPU считается относительно всех пользователей, попавших в группы.\n",
    "\n",
    "### Активным считается пользователь, за все время решивший больше 10 задач правильно в любых дисциплинах.\n",
    "\n",
    "### Активным по математике считается пользователь, за все время решивший 2 или больше задач правильно по математике.\n",
    "\n"
   ]
  },
  {
   "cell_type": "markdown",
   "metadata": {},
   "source": [
    "### Решение (можно проверить в QlickHouse): ###\n",
    "```\n",
    "--Находим количество активных пользователей по математике и их купленное количество курсов\n",
    "WITH math_purchase AS (\n",
    "SELECT st_id,\n",
    "MAX(CASE WHEN subject = 'Math' THEN 1 ELSE 0 END) AS all_math_purchase,\n",
    "SUM(money) AS all_income\n",
    "FROM default.final_project_check\n",
    "GROUP BY st_id\n",
    "),\n",
    "math_tasks AS (\n",
    "SELECT st_id,\n",
    "SUM(CASE WHEN subject = 'Math' THEN 1 ELSE 0 END) AS math_users,\n",
    "SUM(correct) AS all_tasks\n",
    "FROM peas\n",
    "WHERE correct = 1\n",
    "GROUP BY st_id\n",
    "HAVING math_users >= 2 OR all_tasks > 10\n",
    ")\n",
    "--Вычисляем необходимые нам метрики, с округлением до 2 знаков:\n",
    "SELECT test_grp,\n",
    "ROUND(SUM(all_income) / COUNT(studs.st_id), 2) AS ARPU,\n",
    "ROUND(sumIf(all_income, active_users=1) / SUM(active_users), 2) as ARPAU,\n",
    "ROUND(SUM(total_incom) / COUNT(studs.st_id), 2) AS CR_Purchase,\n",
    "ROUND(SUM(CASE WHEN active_users > 0 THEN total_incom ELSE 0 END) / SUM(active_users), 2) AS CR_Active_User,\n",
    "ROUND(SUM(CASE WHEN all_math_purchase = 1 AND active_math_users = 1 THEN 1 ELSE 0 END) / SUM(active_math_users), 2) AS CR_Math_Purchase\n",
    "--Производим слияние данных всех студентов по группам\n",
    "FROM (\n",
    "SELECT studs.st_id,\n",
    "test_grp,\n",
    "all_income,\n",
    "all_math_purchase,\n",
    "CASE WHEN math_users >= 2 THEN 1 ELSE 0 END AS active_math_users,\n",
    "CASE WHEN all_tasks > 10 THEN 1 ELSE 0 END AS active_users,\n",
    "CASE WHEN all_income > 0 THEN 1 ELSE 0 END AS total_incom\n",
    "FROM default.studs\n",
    "LEFT JOIN math_purchase ON studs.st_id = math_purchase.st_id\n",
    "LEFT JOIN math_tasks ON studs.st_id = math_tasks.st_id\n",
    ")\n",
    "GROUP BY test_grp```"
   ]
  },
  {
   "cell_type": "markdown",
   "metadata": {},
   "source": [
    "# Задание 3. Python\n",
    "\n",
    "## 3.1 Задача\n",
    "\n",
    "Реализуйте функцию, которая будет автоматически подгружать информацию из дополнительного файла groups_add.csv (заголовки могут отличаться) и на основании дополнительных параметров пересчитывать метрики.\n",
    "\n",
    "## 3.2 Задача\n",
    "\n",
    "Реализуйте функцию, которая будет строить графики по получаемым метрикам\n",
    "\n",
    "## Решение:\n",
    "\n",
    "\n"
   ]
  },
  {
   "cell_type": "code",
   "execution_count": 27,
   "metadata": {},
   "outputs": [],
   "source": [
    "# Пишу общую функцию, которая обновит наши базы, пересчитает метрики и отстроит графики по пересчитанным метрикам\n",
    "# Так как новая добавленная база не предоставлена, функцию вызывать не будем, только реализуем\n",
    "\n",
    "def update_metrics(users_grouped_new):\n",
    "    # Добавляем к нашей актуальной базе юзеров новый файл\n",
    "    global users_grouped_actual\n",
    "    users_grouped_actual = concat_tables(users_grouped_actual, users_grouped_new)\n",
    "    \n",
    "    merged_df = merge_dfs(users_grouped_actual, users_visited, users_payed)\n",
    "    metrics = get_metrics(merged_df)\n",
    "    print(metrics)\n",
    "    \n",
    "    group_a = merged_df[merged_df['grp'] == 'A']\n",
    "    metrics_a = get_metrics(group_a)\n",
    "    \n",
    "    group_b = merged_df[merged_df['grp'] == 'B']\n",
    "    metrics_b = get_metrics(group_b)\n",
    "    \n",
    "    # Функция для построения графиков реализована в первой части задания, поэтому здесь мы просто ее визуализируем\n",
    "    build_graphics(merged_df, metrics_a['avr_check'], metrics_b['avr_check'], metrics_a['cr'], metrics_b['cr'])\n",
    "\n",
    "    # Пересчитаем заново нашу значимость, после обновления данных\n",
    "    test_statistical_data(group_a, group_b)"
   ]
  }
 ],
 "metadata": {
  "kernelspec": {
   "display_name": "Python 3",
   "language": "python",
   "name": "python3"
  },
  "language_info": {
   "codemirror_mode": {
    "name": "ipython",
    "version": 3
   },
   "file_extension": ".py",
   "mimetype": "text/x-python",
   "name": "python",
   "nbconvert_exporter": "python",
   "pygments_lexer": "ipython3",
   "version": "3.7.3"
  }
 },
 "nbformat": 4,
 "nbformat_minor": 4
}
